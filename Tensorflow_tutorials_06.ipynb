{
  "nbformat": 4,
  "nbformat_minor": 0,
  "metadata": {
    "colab": {
      "name": "Tensorflow_tutorials_06.ipynb",
      "provenance": [],
      "authorship_tag": "ABX9TyP/AMrsePji7pHlIFmIRHnx",
      "include_colab_link": true
    },
    "kernelspec": {
      "name": "python3",
      "display_name": "Python 3"
    },
    "accelerator": "GPU"
  },
  "cells": [
    {
      "cell_type": "markdown",
      "metadata": {
        "id": "view-in-github",
        "colab_type": "text"
      },
      "source": [
        "<a href=\"https://colab.research.google.com/github/tongnamuu/Tensorflow_Tutorials/blob/master/Tensorflow_tutorials_06.ipynb\" target=\"_parent\"><img src=\"https://colab.research.google.com/assets/colab-badge.svg\" alt=\"Open In Colab\"/></a>"
      ]
    },
    {
      "cell_type": "code",
      "metadata": {
        "id": "zR24ruJ8PU4S",
        "colab_type": "code",
        "colab": {}
      },
      "source": [
        "from __future__ import absolute_import, division, print_function, unicode_literals\n",
        "import functools\n",
        "\n",
        "%tensorflow_version 2.x\n",
        "import numpy as np\n",
        "import tensorflow as tf\n",
        "\n",
        "TRAIN_DATA_URL = \"https://storage.googleapis.com/tf-datasets/titanic/train.csv\"\n",
        "TEST_DATA_URL = \"https://storage.googleapis.com/tf-datasets/titanic/eval.csv\"\n",
        "\n",
        "train_file_path = tf.keras.utils.get_file(\"train.csv\", TRAIN_DATA_URL)\n",
        "test_file_path = tf.keras.utils.get_file(\"eval.csv\", TEST_DATA_URL)\n",
        "\n",
        "np.set_printoptions(precision=3, suppress=True)"
      ],
      "execution_count": 0,
      "outputs": []
    },
    {
      "cell_type": "code",
      "metadata": {
        "id": "IH7QowlUSI2S",
        "colab_type": "code",
        "colab": {
          "base_uri": "https://localhost:8080/",
          "height": 197
        },
        "outputId": "31590980-5ebf-4f6e-9608-78b4ae70f709"
      },
      "source": [
        "!head {train_file_path}"
      ],
      "execution_count": 38,
      "outputs": [
        {
          "output_type": "stream",
          "text": [
            "survived,sex,age,n_siblings_spouses,parch,fare,class,deck,embark_town,alone\n",
            "0,male,22.0,1,0,7.25,Third,unknown,Southampton,n\n",
            "1,female,38.0,1,0,71.2833,First,C,Cherbourg,n\n",
            "1,female,26.0,0,0,7.925,Third,unknown,Southampton,y\n",
            "1,female,35.0,1,0,53.1,First,C,Southampton,n\n",
            "0,male,28.0,0,0,8.4583,Third,unknown,Queenstown,y\n",
            "0,male,2.0,3,1,21.075,Third,unknown,Southampton,n\n",
            "1,female,27.0,0,2,11.1333,Third,unknown,Southampton,n\n",
            "1,female,14.0,1,0,30.0708,Second,unknown,Cherbourg,n\n",
            "1,female,4.0,1,1,16.7,Third,G,Southampton,n\n"
          ],
          "name": "stdout"
        }
      ]
    },
    {
      "cell_type": "code",
      "metadata": {
        "id": "lD6KyjS5SOhA",
        "colab_type": "code",
        "colab": {}
      },
      "source": [
        "LABEL_COLUMN='survived'\n",
        "LABELS=[0,1]"
      ],
      "execution_count": 0,
      "outputs": []
    },
    {
      "cell_type": "code",
      "metadata": {
        "id": "RT3C0z7kSUew",
        "colab_type": "code",
        "colab": {}
      },
      "source": [
        "def get_dataset(file_path, **kwargs):\n",
        "  dataset = tf.data.experimental.make_csv_dataset(\n",
        "      file_path,\n",
        "      batch_size=5,\n",
        "      label_name=LABEL_COLUMN,\n",
        "      na_value=\"?\",\n",
        "      num_epochs=1,\n",
        "      ignore_errors=True, \n",
        "      **kwargs)\n",
        "  return dataset\n",
        "\n",
        "raw_train_data = get_dataset(train_file_path)\n",
        "raw_test_data = get_dataset(test_file_path)"
      ],
      "execution_count": 0,
      "outputs": []
    },
    {
      "cell_type": "code",
      "metadata": {
        "id": "WHJVbsEHSjhY",
        "colab_type": "code",
        "colab": {
          "base_uri": "https://localhost:8080/",
          "height": 179
        },
        "outputId": "460afa3e-4d50-403b-8f22-5d87043b67aa"
      },
      "source": [
        "def show_batch(dataset):\n",
        "  for batch, label in dataset.take(1):\n",
        "    for key, value in batch.items():\n",
        "      print(\"{:20s}: {}\".format(key,value.numpy()))\n",
        "\n",
        "show_batch(raw_train_data)"
      ],
      "execution_count": 41,
      "outputs": [
        {
          "output_type": "stream",
          "text": [
            "sex                 : [b'male' b'female' b'female' b'female' b'female']\n",
            "age                 : [34. 28. 27. 28. 28.]\n",
            "n_siblings_spouses  : [0 0 0 0 3]\n",
            "parch               : [0 0 2 0 1]\n",
            "fare                : [ 8.05   7.75  11.133  7.229 25.467]\n",
            "class               : [b'Third' b'Third' b'Third' b'Third' b'Third']\n",
            "deck                : [b'unknown' b'unknown' b'unknown' b'unknown' b'unknown']\n",
            "embark_town         : [b'Southampton' b'Queenstown' b'Southampton' b'Cherbourg' b'Southampton']\n",
            "alone               : [b'y' b'y' b'n' b'y' b'n']\n"
          ],
          "name": "stdout"
        }
      ]
    },
    {
      "cell_type": "code",
      "metadata": {
        "id": "pZWhbxf8S-Fy",
        "colab_type": "code",
        "colab": {
          "base_uri": "https://localhost:8080/",
          "height": 179
        },
        "outputId": "f3ab1c9e-0fda-4fad-b49d-a92e50361bc0"
      },
      "source": [
        "CSV_COLUMNS = ['survived', 'sex', 'age', 'n_siblings_spouses', 'parch', 'fare', 'class', 'deck', 'embark_town', 'alone']\n",
        "\n",
        "temp_dataset = get_dataset(train_file_path, column_names=CSV_COLUMNS)\n",
        "\n",
        "show_batch(temp_dataset)"
      ],
      "execution_count": 42,
      "outputs": [
        {
          "output_type": "stream",
          "text": [
            "sex                 : [b'male' b'male' b'male' b'male' b'male']\n",
            "age                 : [65. 10. 34. 23. 44.]\n",
            "n_siblings_spouses  : [0 3 1 0 2]\n",
            "parch               : [1 2 0 0 0]\n",
            "fare                : [61.979 27.9   26.     7.896 90.   ]\n",
            "class               : [b'First' b'Third' b'Second' b'Third' b'First']\n",
            "deck                : [b'B' b'unknown' b'unknown' b'unknown' b'C']\n",
            "embark_town         : [b'Cherbourg' b'Southampton' b'Southampton' b'Southampton' b'Queenstown']\n",
            "alone               : [b'n' b'n' b'n' b'y' b'n']\n"
          ],
          "name": "stdout"
        }
      ]
    },
    {
      "cell_type": "code",
      "metadata": {
        "id": "_97Ge_mFTQlQ",
        "colab_type": "code",
        "colab": {
          "base_uri": "https://localhost:8080/",
          "height": 107
        },
        "outputId": "26d1d5a5-bd65-45df-c2bd-00596fe93a4b"
      },
      "source": [
        "SELECT_COLUMNS = ['survived', 'age', 'n_siblings_spouses', 'class', 'deck', 'alone']\n",
        "\n",
        "temp_dataset = get_dataset(train_file_path, select_columns=SELECT_COLUMNS)\n",
        "\n",
        "show_batch(temp_dataset)"
      ],
      "execution_count": 43,
      "outputs": [
        {
          "output_type": "stream",
          "text": [
            "age                 : [ 9. 17. 51. 48. 36.]\n",
            "n_siblings_spouses  : [4 4 0 0 1]\n",
            "class               : [b'Third' b'Third' b'Third' b'Third' b'Second']\n",
            "deck                : [b'unknown' b'unknown' b'unknown' b'unknown' b'unknown']\n",
            "alone               : [b'n' b'n' b'y' b'y' b'n']\n"
          ],
          "name": "stdout"
        }
      ]
    },
    {
      "cell_type": "code",
      "metadata": {
        "id": "CwJ9XfOdTVzw",
        "colab_type": "code",
        "colab": {
          "base_uri": "https://localhost:8080/",
          "height": 89
        },
        "outputId": "c04b29e1-e1d0-47a9-a21f-9b5308d9c3b0"
      },
      "source": [
        "SELECT_COLUMNS = ['survived', 'age', 'n_siblings_spouses', 'parch', 'fare']\n",
        "DEFAULTS = [0, 0.0, 0.0, 0.0, 0.0]\n",
        "temp_dataset = get_dataset(train_file_path, \n",
        "                           select_columns=SELECT_COLUMNS,\n",
        "                           column_defaults = DEFAULTS)\n",
        "\n",
        "show_batch(temp_dataset)"
      ],
      "execution_count": 44,
      "outputs": [
        {
          "output_type": "stream",
          "text": [
            "age                 : [28. 27. 23. 39. 51.]\n",
            "n_siblings_spouses  : [0. 0. 0. 1. 1.]\n",
            "parch               : [0. 0. 0. 5. 0.]\n",
            "fare                : [ 7.225 30.5   13.    31.275 77.958]\n"
          ],
          "name": "stdout"
        }
      ]
    },
    {
      "cell_type": "code",
      "metadata": {
        "id": "IJpnEo0rTasP",
        "colab_type": "code",
        "colab": {}
      },
      "source": [
        "example_batch, labels_batch = next(iter(temp_dataset)) "
      ],
      "execution_count": 0,
      "outputs": []
    },
    {
      "cell_type": "code",
      "metadata": {
        "id": "NE32U7rZTb6A",
        "colab_type": "code",
        "colab": {}
      },
      "source": [
        "def pack(features, label):\n",
        "  return tf.stack(list(features.values()), axis=-1), label"
      ],
      "execution_count": 0,
      "outputs": []
    },
    {
      "cell_type": "code",
      "metadata": {
        "id": "bn9RSu08TdKg",
        "colab_type": "code",
        "colab": {
          "base_uri": "https://localhost:8080/",
          "height": 143
        },
        "outputId": "045c7f15-d6a1-46b5-dde2-0c66c6226986"
      },
      "source": [
        "packed_dataset = temp_dataset.map(pack)\n",
        "\n",
        "for features, labels in packed_dataset.take(1):\n",
        "  print(features.numpy())\n",
        "  print()\n",
        "  print(labels.numpy())"
      ],
      "execution_count": 47,
      "outputs": [
        {
          "output_type": "stream",
          "text": [
            "[[32.     0.     0.     7.925]\n",
            " [ 4.     1.     1.    11.133]\n",
            " [30.     0.     0.    56.929]\n",
            " [ 6.     0.     1.    12.475]\n",
            " [28.     0.     0.     7.229]]\n",
            "\n",
            "[0 1 1 1 1]\n"
          ],
          "name": "stdout"
        }
      ]
    },
    {
      "cell_type": "code",
      "metadata": {
        "id": "8Pd1Z9JlThUw",
        "colab_type": "code",
        "colab": {
          "base_uri": "https://localhost:8080/",
          "height": 197
        },
        "outputId": "57651b9c-6ee5-4529-a8aa-35e136715043"
      },
      "source": [
        "show_batch(raw_train_data)"
      ],
      "execution_count": 48,
      "outputs": [
        {
          "output_type": "stream",
          "text": [
            "sex                 : [b'male' b'female' b'female' b'male' b'male']\n",
            "age                 : [20. 58. 29. 11. 35.]\n",
            "n_siblings_spouses  : [0 0 1 1 0]\n",
            "parch               : [0 1 1 2 0]\n",
            "fare                : [  7.854 153.462  10.462 120.      7.05 ]\n",
            "class               : [b'Third' b'First' b'Third' b'First' b'Third']\n",
            "deck                : [b'unknown' b'C' b'G' b'B' b'unknown']\n",
            "embark_town         : [b'Southampton' b'Southampton' b'Southampton' b'Southampton'\n",
            " b'Southampton']\n",
            "alone               : [b'y' b'n' b'n' b'n' b'y']\n"
          ],
          "name": "stdout"
        }
      ]
    },
    {
      "cell_type": "code",
      "metadata": {
        "id": "h8m16JfzTjw4",
        "colab_type": "code",
        "colab": {}
      },
      "source": [
        "example_batch, labels_batch = next(iter(temp_dataset)) "
      ],
      "execution_count": 0,
      "outputs": []
    },
    {
      "cell_type": "code",
      "metadata": {
        "id": "TmxcSaLtTkwQ",
        "colab_type": "code",
        "colab": {}
      },
      "source": [
        "class PackNumericFeatures(object):\n",
        "  def __init__(self, names):\n",
        "    self.names = names\n",
        "\n",
        "  def __call__(self, features, labels):\n",
        "    numeric_features = [features.pop(name) for name in self.names]\n",
        "    numeric_features = [tf.cast(feat, tf.float32) for feat in numeric_features]\n",
        "    numeric_features = tf.stack(numeric_features, axis=-1)\n",
        "    features['numeric'] = numeric_features\n",
        "\n",
        "    return features, labels"
      ],
      "execution_count": 0,
      "outputs": []
    },
    {
      "cell_type": "code",
      "metadata": {
        "id": "RCyRSP3fToi4",
        "colab_type": "code",
        "colab": {
          "base_uri": "https://localhost:8080/",
          "height": 197
        },
        "outputId": "708058a0-9cc4-4f55-9b8c-e14a0a3d2520"
      },
      "source": [
        "NUMERIC_FEATURES = ['age','n_siblings_spouses','parch', 'fare']\n",
        "\n",
        "packed_train_data = raw_train_data.map(PackNumericFeatures(NUMERIC_FEATURES))\n",
        "packed_test_data = raw_test_data.map(PackNumericFeatures(NUMERIC_FEATURES))\n",
        "\n",
        "show_batch(packed_train_data)"
      ],
      "execution_count": 51,
      "outputs": [
        {
          "output_type": "stream",
          "text": [
            "sex                 : [b'female' b'male' b'female' b'male' b'female']\n",
            "class               : [b'Third' b'Third' b'First' b'First' b'First']\n",
            "deck                : [b'unknown' b'unknown' b'unknown' b'C' b'C']\n",
            "embark_town         : [b'Cherbourg' b'Southampton' b'Cherbourg' b'Southampton' b'Cherbourg']\n",
            "alone               : [b'n' b'y' b'y' b'y' b'n']\n",
            "numeric             : [[ 24.      0.      3.     19.258]\n",
            " [ 20.      0.      0.      9.5  ]\n",
            " [ 42.      0.      0.    227.525]\n",
            " [ 28.      0.      0.     30.5  ]\n",
            " [ 17.      1.      0.    108.9  ]]\n"
          ],
          "name": "stdout"
        }
      ]
    },
    {
      "cell_type": "code",
      "metadata": {
        "id": "0T_M-JGhTy1g",
        "colab_type": "code",
        "colab": {}
      },
      "source": [
        "example_batch, labels_batch = next(iter(packed_train_data)) "
      ],
      "execution_count": 0,
      "outputs": []
    },
    {
      "cell_type": "code",
      "metadata": {
        "id": "GUraijcAT3nA",
        "colab_type": "code",
        "colab": {
          "base_uri": "https://localhost:8080/",
          "height": 297
        },
        "outputId": "d8258b1c-a240-4d2b-c249-3cce6414a202"
      },
      "source": [
        "import pandas as pd\n",
        "desc = pd.read_csv(train_file_path)[NUMERIC_FEATURES].describe()\n",
        "desc"
      ],
      "execution_count": 53,
      "outputs": [
        {
          "output_type": "execute_result",
          "data": {
            "text/html": [
              "<div>\n",
              "<style scoped>\n",
              "    .dataframe tbody tr th:only-of-type {\n",
              "        vertical-align: middle;\n",
              "    }\n",
              "\n",
              "    .dataframe tbody tr th {\n",
              "        vertical-align: top;\n",
              "    }\n",
              "\n",
              "    .dataframe thead th {\n",
              "        text-align: right;\n",
              "    }\n",
              "</style>\n",
              "<table border=\"1\" class=\"dataframe\">\n",
              "  <thead>\n",
              "    <tr style=\"text-align: right;\">\n",
              "      <th></th>\n",
              "      <th>age</th>\n",
              "      <th>n_siblings_spouses</th>\n",
              "      <th>parch</th>\n",
              "      <th>fare</th>\n",
              "    </tr>\n",
              "  </thead>\n",
              "  <tbody>\n",
              "    <tr>\n",
              "      <th>count</th>\n",
              "      <td>627.000000</td>\n",
              "      <td>627.000000</td>\n",
              "      <td>627.000000</td>\n",
              "      <td>627.000000</td>\n",
              "    </tr>\n",
              "    <tr>\n",
              "      <th>mean</th>\n",
              "      <td>29.631308</td>\n",
              "      <td>0.545455</td>\n",
              "      <td>0.379585</td>\n",
              "      <td>34.385399</td>\n",
              "    </tr>\n",
              "    <tr>\n",
              "      <th>std</th>\n",
              "      <td>12.511818</td>\n",
              "      <td>1.151090</td>\n",
              "      <td>0.792999</td>\n",
              "      <td>54.597730</td>\n",
              "    </tr>\n",
              "    <tr>\n",
              "      <th>min</th>\n",
              "      <td>0.750000</td>\n",
              "      <td>0.000000</td>\n",
              "      <td>0.000000</td>\n",
              "      <td>0.000000</td>\n",
              "    </tr>\n",
              "    <tr>\n",
              "      <th>25%</th>\n",
              "      <td>23.000000</td>\n",
              "      <td>0.000000</td>\n",
              "      <td>0.000000</td>\n",
              "      <td>7.895800</td>\n",
              "    </tr>\n",
              "    <tr>\n",
              "      <th>50%</th>\n",
              "      <td>28.000000</td>\n",
              "      <td>0.000000</td>\n",
              "      <td>0.000000</td>\n",
              "      <td>15.045800</td>\n",
              "    </tr>\n",
              "    <tr>\n",
              "      <th>75%</th>\n",
              "      <td>35.000000</td>\n",
              "      <td>1.000000</td>\n",
              "      <td>0.000000</td>\n",
              "      <td>31.387500</td>\n",
              "    </tr>\n",
              "    <tr>\n",
              "      <th>max</th>\n",
              "      <td>80.000000</td>\n",
              "      <td>8.000000</td>\n",
              "      <td>5.000000</td>\n",
              "      <td>512.329200</td>\n",
              "    </tr>\n",
              "  </tbody>\n",
              "</table>\n",
              "</div>"
            ],
            "text/plain": [
              "              age  n_siblings_spouses       parch        fare\n",
              "count  627.000000          627.000000  627.000000  627.000000\n",
              "mean    29.631308            0.545455    0.379585   34.385399\n",
              "std     12.511818            1.151090    0.792999   54.597730\n",
              "min      0.750000            0.000000    0.000000    0.000000\n",
              "25%     23.000000            0.000000    0.000000    7.895800\n",
              "50%     28.000000            0.000000    0.000000   15.045800\n",
              "75%     35.000000            1.000000    0.000000   31.387500\n",
              "max     80.000000            8.000000    5.000000  512.329200"
            ]
          },
          "metadata": {
            "tags": []
          },
          "execution_count": 53
        }
      ]
    },
    {
      "cell_type": "code",
      "metadata": {
        "id": "i2h0WZIzT6On",
        "colab_type": "code",
        "colab": {}
      },
      "source": [
        "MEAN = np.array(desc.T['mean'])\n",
        "STD = np.array(desc.T['std'])\n",
        "def normalize_numeric_data(data, mean, std):\n",
        "  return (data-mean)/std"
      ],
      "execution_count": 0,
      "outputs": []
    },
    {
      "cell_type": "code",
      "metadata": {
        "id": "WNlpgbNvT_V4",
        "colab_type": "code",
        "colab": {
          "base_uri": "https://localhost:8080/",
          "height": 55
        },
        "outputId": "ebaa5d70-2502-4e66-9a23-29aa3922f8e9"
      },
      "source": [
        "normalizer = functools.partial(normalize_numeric_data, mean=MEAN, std=STD)\n",
        "\n",
        "numeric_column = tf.feature_column.numeric_column('numeric', normalizer_fn=normalizer, shape=[len(NUMERIC_FEATURES)])\n",
        "numeric_columns = [numeric_column]\n",
        "numeric_column"
      ],
      "execution_count": 55,
      "outputs": [
        {
          "output_type": "execute_result",
          "data": {
            "text/plain": [
              "NumericColumn(key='numeric', shape=(4,), default_value=None, dtype=tf.float32, normalizer_fn=functools.partial(<function normalize_numeric_data at 0x7f87d6c59400>, mean=array([29.631,  0.545,  0.38 , 34.385]), std=array([12.512,  1.151,  0.793, 54.598])))"
            ]
          },
          "metadata": {
            "tags": []
          },
          "execution_count": 55
        }
      ]
    },
    {
      "cell_type": "code",
      "metadata": {
        "id": "3wCp4uknUB64",
        "colab_type": "code",
        "colab": {
          "base_uri": "https://localhost:8080/",
          "height": 125
        },
        "outputId": "3584ae76-f492-4b8d-b2f0-c91c4a195ac1"
      },
      "source": [
        "example_batch['numeric']"
      ],
      "execution_count": 56,
      "outputs": [
        {
          "output_type": "execute_result",
          "data": {
            "text/plain": [
              "<tf.Tensor: shape=(5, 4), dtype=float32, numpy=\n",
              "array([[45.   ,  1.   ,  0.   , 83.475],\n",
              "       [18.   ,  0.   ,  0.   , 73.5  ],\n",
              "       [34.   ,  1.   ,  1.   , 32.5  ],\n",
              "       [28.   ,  0.   ,  0.   , 79.2  ],\n",
              "       [22.   ,  0.   ,  0.   ,  7.775]], dtype=float32)>"
            ]
          },
          "metadata": {
            "tags": []
          },
          "execution_count": 56
        }
      ]
    },
    {
      "cell_type": "code",
      "metadata": {
        "id": "Pf53ILT6UDfP",
        "colab_type": "code",
        "colab": {
          "base_uri": "https://localhost:8080/",
          "height": 107
        },
        "outputId": "c7ad77e2-ae8a-4efc-a24e-924c2e1e7f3c"
      },
      "source": [
        "numeric_layer = tf.keras.layers.DenseFeatures(numeric_columns)\n",
        "numeric_layer(example_batch).numpy()"
      ],
      "execution_count": 57,
      "outputs": [
        {
          "output_type": "execute_result",
          "data": {
            "text/plain": [
              "array([[ 1.228,  0.395, -0.479,  0.899],\n",
              "       [-0.93 , -0.474, -0.479,  0.716],\n",
              "       [ 0.349,  0.395,  0.782, -0.035],\n",
              "       [-0.13 , -0.474, -0.479,  0.821],\n",
              "       [-0.61 , -0.474, -0.479, -0.487]], dtype=float32)"
            ]
          },
          "metadata": {
            "tags": []
          },
          "execution_count": 57
        }
      ]
    },
    {
      "cell_type": "code",
      "metadata": {
        "id": "KkUJSWekUI1Y",
        "colab_type": "code",
        "colab": {}
      },
      "source": [
        "CATEGORIES = {\n",
        "    'sex': ['male', 'female'],\n",
        "    'class' : ['First', 'Second', 'Third'],\n",
        "    'deck' : ['A', 'B', 'C', 'D', 'E', 'F', 'G', 'H', 'I', 'J'],\n",
        "    'embark_town' : ['Cherbourg', 'Southhampton', 'Queenstown'],\n",
        "    'alone' : ['y', 'n']\n",
        "}\n"
      ],
      "execution_count": 0,
      "outputs": []
    },
    {
      "cell_type": "code",
      "metadata": {
        "id": "GnmgNPYpUM8g",
        "colab_type": "code",
        "colab": {}
      },
      "source": [
        "categorical_columns = []\n",
        "for feature, vocab in CATEGORIES.items():\n",
        "  cat_col = tf.feature_column.categorical_column_with_vocabulary_list(\n",
        "        key=feature, vocabulary_list=vocab)\n",
        "  categorical_columns.append(tf.feature_column.indicator_column(cat_col))"
      ],
      "execution_count": 0,
      "outputs": []
    },
    {
      "cell_type": "code",
      "metadata": {
        "id": "Gf9V2E1kUOkx",
        "colab_type": "code",
        "colab": {
          "base_uri": "https://localhost:8080/",
          "height": 127
        },
        "outputId": "a6200053-1503-454d-b003-b75fb8a5bad2"
      },
      "source": [
        "categorical_columns"
      ],
      "execution_count": 60,
      "outputs": [
        {
          "output_type": "execute_result",
          "data": {
            "text/plain": [
              "[IndicatorColumn(categorical_column=VocabularyListCategoricalColumn(key='sex', vocabulary_list=('male', 'female'), dtype=tf.string, default_value=-1, num_oov_buckets=0)),\n",
              " IndicatorColumn(categorical_column=VocabularyListCategoricalColumn(key='class', vocabulary_list=('First', 'Second', 'Third'), dtype=tf.string, default_value=-1, num_oov_buckets=0)),\n",
              " IndicatorColumn(categorical_column=VocabularyListCategoricalColumn(key='deck', vocabulary_list=('A', 'B', 'C', 'D', 'E', 'F', 'G', 'H', 'I', 'J'), dtype=tf.string, default_value=-1, num_oov_buckets=0)),\n",
              " IndicatorColumn(categorical_column=VocabularyListCategoricalColumn(key='embark_town', vocabulary_list=('Cherbourg', 'Southhampton', 'Queenstown'), dtype=tf.string, default_value=-1, num_oov_buckets=0)),\n",
              " IndicatorColumn(categorical_column=VocabularyListCategoricalColumn(key='alone', vocabulary_list=('y', 'n'), dtype=tf.string, default_value=-1, num_oov_buckets=0))]"
            ]
          },
          "metadata": {
            "tags": []
          },
          "execution_count": 60
        }
      ]
    },
    {
      "cell_type": "code",
      "metadata": {
        "id": "VakSAFg9URDB",
        "colab_type": "code",
        "colab": {
          "base_uri": "https://localhost:8080/",
          "height": 35
        },
        "outputId": "8fc9b937-c1e9-447b-cd22-40d4793bad09"
      },
      "source": [
        "categorical_layer = tf.keras.layers.DenseFeatures(categorical_columns)\n",
        "print(categorical_layer(example_batch).numpy()[0])"
      ],
      "execution_count": 61,
      "outputs": [
        {
          "output_type": "stream",
          "text": [
            "[0. 1. 1. 0. 0. 0. 0. 1. 0. 0. 0. 0. 0. 0. 0. 0. 0. 0. 1. 0.]\n"
          ],
          "name": "stdout"
        }
      ]
    },
    {
      "cell_type": "code",
      "metadata": {
        "id": "xmSxzJpYUW9I",
        "colab_type": "code",
        "colab": {
          "base_uri": "https://localhost:8080/",
          "height": 71
        },
        "outputId": "30eea338-e92c-4e7f-b4e5-53f32169ef58"
      },
      "source": [
        "preprocessing_layer = tf.keras.layers.DenseFeatures(categorical_columns+numeric_columns)\n",
        "print(preprocessing_layer(example_batch).numpy()[0])"
      ],
      "execution_count": 62,
      "outputs": [
        {
          "output_type": "stream",
          "text": [
            "[ 0.     1.     1.     0.     0.     0.     0.     1.     0.     0.\n",
            "  0.     0.     0.     0.     0.     0.     0.     0.     1.228  0.395\n",
            " -0.479  0.899  1.     0.   ]\n"
          ],
          "name": "stdout"
        }
      ]
    },
    {
      "cell_type": "code",
      "metadata": {
        "id": "W7BuCQwnUaF4",
        "colab_type": "code",
        "colab": {}
      },
      "source": [
        "model = tf.keras.Sequential([\n",
        "  preprocessing_layer,\n",
        "  tf.keras.layers.Dense(128, activation='relu'),\n",
        "  tf.keras.layers.Dense(128, activation='relu'),\n",
        "  tf.keras.layers.Dense(1),\n",
        "])\n",
        "\n",
        "model.compile(optimizer='adam', loss=tf.keras.losses.BinaryCrossentropy(from_logits=True), metrics=['accuracy'])"
      ],
      "execution_count": 0,
      "outputs": []
    },
    {
      "cell_type": "code",
      "metadata": {
        "id": "O5zpUYvEUjS4",
        "colab_type": "code",
        "colab": {
          "base_uri": "https://localhost:8080/",
          "height": 755
        },
        "outputId": "4adf5a64-3242-484f-c5b6-a52d50c72dd3"
      },
      "source": [
        "train_data = packed_train_data.shuffle(500)\n",
        "test_data = packed_test_data\n",
        "\n",
        "model.fit(train_data, epochs=20)"
      ],
      "execution_count": 64,
      "outputs": [
        {
          "output_type": "stream",
          "text": [
            "Epoch 1/20\n",
            "126/126 [==============================] - 1s 12ms/step - loss: 0.4946 - accuracy: 0.7496\n",
            "Epoch 2/20\n",
            "126/126 [==============================] - 1s 5ms/step - loss: 0.4230 - accuracy: 0.8166\n",
            "Epoch 3/20\n",
            "126/126 [==============================] - 1s 5ms/step - loss: 0.4005 - accuracy: 0.8278\n",
            "Epoch 4/20\n",
            "126/126 [==============================] - 1s 5ms/step - loss: 0.3900 - accuracy: 0.8246\n",
            "Epoch 5/20\n",
            "126/126 [==============================] - 1s 5ms/step - loss: 0.3754 - accuracy: 0.8405\n",
            "Epoch 6/20\n",
            "126/126 [==============================] - 1s 5ms/step - loss: 0.3748 - accuracy: 0.8453\n",
            "Epoch 7/20\n",
            "126/126 [==============================] - 1s 5ms/step - loss: 0.3676 - accuracy: 0.8405\n",
            "Epoch 8/20\n",
            "126/126 [==============================] - 1s 5ms/step - loss: 0.3616 - accuracy: 0.8421\n",
            "Epoch 9/20\n",
            "126/126 [==============================] - 1s 5ms/step - loss: 0.3544 - accuracy: 0.8501\n",
            "Epoch 10/20\n",
            "126/126 [==============================] - 1s 5ms/step - loss: 0.3479 - accuracy: 0.8517\n",
            "Epoch 11/20\n",
            "126/126 [==============================] - 1s 5ms/step - loss: 0.3394 - accuracy: 0.8453\n",
            "Epoch 12/20\n",
            "126/126 [==============================] - 1s 5ms/step - loss: 0.3393 - accuracy: 0.8549\n",
            "Epoch 13/20\n",
            "126/126 [==============================] - 1s 5ms/step - loss: 0.3343 - accuracy: 0.8565\n",
            "Epoch 14/20\n",
            "126/126 [==============================] - 1s 5ms/step - loss: 0.3255 - accuracy: 0.8612\n",
            "Epoch 15/20\n",
            "126/126 [==============================] - 1s 5ms/step - loss: 0.3248 - accuracy: 0.8549\n",
            "Epoch 16/20\n",
            "126/126 [==============================] - 1s 4ms/step - loss: 0.3216 - accuracy: 0.8581\n",
            "Epoch 17/20\n",
            "126/126 [==============================] - 1s 5ms/step - loss: 0.3179 - accuracy: 0.8612\n",
            "Epoch 18/20\n",
            "126/126 [==============================] - 1s 5ms/step - loss: 0.3201 - accuracy: 0.8596\n",
            "Epoch 19/20\n",
            "126/126 [==============================] - 1s 5ms/step - loss: 0.3094 - accuracy: 0.8628\n",
            "Epoch 20/20\n",
            "126/126 [==============================] - 1s 5ms/step - loss: 0.3156 - accuracy: 0.8581\n"
          ],
          "name": "stdout"
        },
        {
          "output_type": "execute_result",
          "data": {
            "text/plain": [
              "<tensorflow.python.keras.callbacks.History at 0x7f87d63d4400>"
            ]
          },
          "metadata": {
            "tags": []
          },
          "execution_count": 64
        }
      ]
    },
    {
      "cell_type": "code",
      "metadata": {
        "id": "SzAPQOnLUrFI",
        "colab_type": "code",
        "colab": {
          "base_uri": "https://localhost:8080/",
          "height": 71
        },
        "outputId": "97293273-3c14-4b8d-c4c7-7094f1381b55"
      },
      "source": [
        "test_loss, test_accuracy = model.evaluate(test_data)\n",
        "\n",
        "print('\\n\\nTest Loss {}, Test Accuracy {}'.format(test_loss, test_accuracy))"
      ],
      "execution_count": 65,
      "outputs": [
        {
          "output_type": "stream",
          "text": [
            "     53/Unknown - 1s 11ms/step - loss: 0.4532 - accuracy: 0.8409\n",
            "\n",
            "Test Loss 0.45323561490425524, Test Accuracy 0.8409090638160706\n"
          ],
          "name": "stdout"
        }
      ]
    },
    {
      "cell_type": "code",
      "metadata": {
        "id": "v-pd15k1UuC5",
        "colab_type": "code",
        "colab": {
          "base_uri": "https://localhost:8080/",
          "height": 107
        },
        "outputId": "5276dac5-1962-4312-eb62-661a8c808225"
      },
      "source": [
        "predictions = model.predict(test_data)\n",
        "\n",
        "for prediction, survived in zip(predictions[:10], list(test_data)[0][1][:10]):\n",
        "  print(\"Predicted survival: {:.2%}\".format(prediction[0]),\" | Actual outcome: \",(\"SURVIVED\" if bool(survived) else \"DIED\"))"
      ],
      "execution_count": 66,
      "outputs": [
        {
          "output_type": "stream",
          "text": [
            "Predicted survival: -109.38%  | Actual outcome:  SURVIVED\n",
            "Predicted survival: 472.54%  | Actual outcome:  DIED\n",
            "Predicted survival: -229.50%  | Actual outcome:  DIED\n",
            "Predicted survival: 51.34%  | Actual outcome:  DIED\n",
            "Predicted survival: 747.89%  | Actual outcome:  DIED\n"
          ],
          "name": "stdout"
        }
      ]
    }
  ]
}